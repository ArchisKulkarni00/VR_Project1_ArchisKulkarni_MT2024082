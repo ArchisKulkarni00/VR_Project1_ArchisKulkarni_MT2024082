{
 "cells": [
  {
   "cell_type": "markdown",
   "metadata": {},
   "source": [
    "## Step 1: Dataset creation\n",
    "We will first prepare the dataset so that it is uniform and ready for processing."
   ]
  },
  {
   "cell_type": "markdown",
   "metadata": {},
   "source": [
    "**Data Preparation Steps**\n",
    "- Load Images from Folders (with_mask/, without_mask/)\n",
    "- Resize to 128×128 pixels\n",
    "- Convert to Grayscale (Optional)\n",
    "- Normalize Pixel Values (Scale between 0-1 or standardize)\n",
    "- Create Labels (0 = No Mask, 1 = Mask)\n",
    "- Split into Train (80%) and Test (20%) Sets\n",
    "- Save Preprocessed Dataset as numpy arrays for Faster Future Runs"
   ]
  },
  {
   "cell_type": "code",
   "execution_count": null,
   "metadata": {},
   "outputs": [
    {
     "name": "stdout",
     "output_type": "stream",
     "text": [
      "Processed dataset.\n",
      "Training sample count:  2832\n",
      "Testing sample count:  709\n"
     ]
    }
   ],
   "source": [
    "import os\n",
    "import numpy as np\n",
    "import cv2\n",
    "from sklearn.model_selection import train_test_split\n",
    "\n",
    "dataPath = \"../FaceMaskDataset/dataset/\"\n",
    "categories = [\"without_mask\", \"with_mask\"]\n",
    "imgSize = 64\n",
    "\n",
    "images, labels = [], []\n",
    "\n",
    "for category in categories:\n",
    "    path = os.path.join(dataPath, category)\n",
    "    label = categories.index(category)\n",
    "    for imgName in os.listdir(path):\n",
    "        imgPath = os.path.join(path, imgName)\n",
    "        \n",
    "        if not os.path.exists(imgPath):\n",
    "            continue\n",
    "\n",
    "        img = cv2.imread(imgPath, cv2.IMREAD_GRAYSCALE)\n",
    "\n",
    "        if img is None or img.shape[0] < imgSize or img.shape[1] < imgSize:\n",
    "            continue\n",
    "        \n",
    "        img = cv2.resize(img, (imgSize, imgSize))\n",
    "        img = img.astype(\"float32\") / 255.0\n",
    "        images.append(img)\n",
    "        labels.append(label)\n",
    "\n",
    "\n",
    "images = np.array(images)\n",
    "labels = np.array(labels)\n",
    "\n",
    "trainImages, testImages, trainLabels, testLabels = train_test_split(images, labels, test_size=0.2, stratify=labels, random_state=42)\n",
    "\n",
    "np.save(\"trainImages.npy\", trainImages)\n",
    "np.save(\"testImages.npy\", testImages)\n",
    "np.save(\"trainLabels.npy\", trainLabels)\n",
    "np.save(\"testLabels.npy\", testLabels)\n",
    "print(\"Processed dataset.\")\n",
    "print(\"Training sample count: \",trainImages.shape[0])\n",
    "print(\"Testing sample count: \",testImages.shape[0])"
   ]
  },
  {
   "cell_type": "code",
   "execution_count": 1,
   "metadata": {},
   "outputs": [
    {
     "ename": "NameError",
     "evalue": "name 'np' is not defined",
     "output_type": "error",
     "traceback": [
      "\u001b[1;31m---------------------------------------------------------------------------\u001b[0m",
      "\u001b[1;31mNameError\u001b[0m                                 Traceback (most recent call last)",
      "Cell \u001b[1;32mIn[1], line 1\u001b[0m\n\u001b[1;32m----> 1\u001b[0m uniqueTrain, countsTrain \u001b[38;5;241m=\u001b[39m \u001b[43mnp\u001b[49m\u001b[38;5;241m.\u001b[39munique(trainLabels, return_counts\u001b[38;5;241m=\u001b[39m\u001b[38;5;28;01mTrue\u001b[39;00m)\n\u001b[0;32m      2\u001b[0m uniqueTest, countsTest \u001b[38;5;241m=\u001b[39m np\u001b[38;5;241m.\u001b[39munique(testLabels, return_counts\u001b[38;5;241m=\u001b[39m\u001b[38;5;28;01mTrue\u001b[39;00m)\n\u001b[0;32m      4\u001b[0m \u001b[38;5;28mprint\u001b[39m(\u001b[38;5;124m\"\u001b[39m\u001b[38;5;124mTrain Set:\u001b[39m\u001b[38;5;124m\"\u001b[39m)\n",
      "\u001b[1;31mNameError\u001b[0m: name 'np' is not defined"
     ]
    }
   ],
   "source": [
    "uniqueTrain, countsTrain = np.unique(trainLabels, return_counts=True)\n",
    "uniqueTest, countsTest = np.unique(testLabels, return_counts=True)\n",
    "\n",
    "print(\"Train Set:\")\n",
    "print(f\"  No Mask (0): {countsTrain[0]}\")\n",
    "print(f\"  Mask (1): {countsTrain[1]}\")\n",
    "\n",
    "print(\"\\nTest Set:\")\n",
    "print(f\"  No Mask (0): {countsTest[0]}\")\n",
    "print(f\"  Mask (1): {countsTest[1]}\")"
   ]
  },
  {
   "cell_type": "markdown",
   "metadata": {},
   "source": [
    "Below is a sample of how the images look after processing."
   ]
  },
  {
   "cell_type": "code",
   "execution_count": null,
   "metadata": {},
   "outputs": [
    {
     "data": {
      "image/png": "[encoded data removed]",
      "text/plain": [
       "<Figure size 800x400 with 2 Axes>"
      ]
     },
     "metadata": {},
     "output_type": "display_data"
    }
   ],
   "source": [
    "import random\n",
    "import matplotlib.pyplot as plt \n",
    "\n",
    "fig, axes = plt.subplots(1, 2, figsize=(8, 4))\n",
    "\n",
    "for i, category in enumerate(categories):\n",
    "    path = os.path.join(dataPath, category)\n",
    "    imgName = random.choice(os.listdir(path))\n",
    "    imgPath = os.path.join(path, imgName)\n",
    "    \n",
    "    img = cv2.imread(imgPath, cv2.IMREAD_GRAYSCALE)\n",
    "    img = cv2.resize(img, (imgSize, imgSize))\n",
    "    # img = cv2.cvtColor(img, cv2.COLOR_BGR2RGB)\n",
    "    img = img.astype(\"float32\") / 255.0\n",
    "    \n",
    "    axes[i].imshow(img, cmap='gray')\n",
    "    axes[i].set_title(category)\n",
    "    axes[i].axis(\"off\")\n",
    "\n",
    "plt.show()"
   ]
  },
  {
   "cell_type": "markdown",
   "metadata": {},
   "source": [
    "If dataset files (.npy) already exist no need to run above code, run below code to load them."
   ]
  },
  {
   "cell_type": "code",
   "execution_count": null,
   "metadata": {},
   "outputs": [],
   "source": [
    "trainImages = np.load(\"trainImages\")\n",
    "testImages = np.load(\"testImages\")\n",
    "trainLabels = np.load(\"trainLabels\")\n",
    "testLabels = np.load(\"testLabels\")"
   ]
  },
  {
   "cell_type": "markdown",
   "metadata": {},
   "source": [
    "## Step 2: Extract features\n",
    "We will extract features from the processed images that we can then feed into various models for classification task."
   ]
  },
  {
   "cell_type": "markdown",
   "metadata": {},
   "source": [
    "**Feature extraction steps**\n",
    "- Extract edges: Apply the Sobel filter since it is effective for highlighting edges by computing the gradient of image intensity. This helps in capturing the structural boundaries of objects within the image.\n",
    "  - Apply the Sobel filter to detect horizontal and vertical edges.\n",
    "  - Compute the gradient magnitude to represent edge strength.\n",
    "- Extract Texture information: HOG captures the distribution of gradient orientations, which is useful for object recognition tasks. LBP is a efficient texture operator that labels pixels based on the local neighborhood, effectively summarizing the texture information.\n",
    "  - Extract HOG features to capture gradient orientation patterns.\n",
    "  - Extract LBP features to capture local texture information."
   ]
  },
  {
   "cell_type": "code",
   "execution_count": null,
   "metadata": {},
   "outputs": [
    {
     "name": "stdout",
     "output_type": "stream",
     "text": [
      "Trial image shape:  (64, 64)\n",
      "Sobel feature shape:  (4096,)\n",
      "HOG feature shape:  (324,)\n",
      "LBP feature shape:  (256,)\n"
     ]
    }
   ],
   "source": [
    "from sklearn.preprocessing import MinMaxScaler, StandardScaler\n",
    "\n",
    "def sobelFeatures(image):\n",
    "    image = cv2.GaussianBlur(image, (3, 3), 0)\n",
    "    gradX = cv2.Sobel(image, cv2.CV_64F, 1, 0, ksize=3)\n",
    "    gradY = cv2.Sobel(image, cv2.CV_64F, 0, 1, ksize=3)\n",
    "    magnitude = np.sqrt(gradX**2 + gradY**2)\n",
    "    scaler = MinMaxScaler()\n",
    "    magnitude = scaler.fit_transform(magnitude.reshape(-1, 1)).flatten()\n",
    "    return magnitude\n",
    "\n",
    "def hogFeatures(image):\n",
    "    image = image.astype(\"uint8\")\n",
    "    winSize = (image.shape[1], image.shape[0])\n",
    "    blockSize = (32, 32)\n",
    "    blockStride = (16, 16)\n",
    "    cellSize = (16, 16)\n",
    "    nbins = 9\n",
    "    hog = cv2.HOGDescriptor(winSize, blockSize, blockStride, cellSize, nbins)\n",
    "    hog = hog.compute(image).flatten()\n",
    "    scaler = StandardScaler()\n",
    "    hog = scaler.fit_transform(hog.reshape(-1, 1)).flatten()\n",
    "\n",
    "    return hog\n",
    "\n",
    "def lbpFeatures(image):\n",
    "    lbp = np.zeros_like(image)\n",
    "    for i in range(1, image.shape[0] - 1):\n",
    "        for j in range(1, image.shape[1] - 1):\n",
    "            center = image[i, j]\n",
    "            binaryString = ''.join(['1' if image[i + x, j + y] >= center else '0'\n",
    "                                    for x, y in [(-1, -1), (-1, 0), (-1, 1), (0, 1),\n",
    "                                                 (1, 1), (1, 0), (1, -1), (0, -1)]])\n",
    "            lbp[i, j] = int(binaryString, 2)\n",
    "    hist = cv2.calcHist([lbp.astype(\"uint8\")], [0], None, [256], [0, 256])\n",
    "    scaler = MinMaxScaler()\n",
    "    hist = scaler.fit_transform(hist.reshape(-1, 1)).flatten()\n",
    "\n",
    "    return hist\n",
    "\n",
    "\n",
    "trial_image = trainImages[0]\n",
    "print(\"Trial image shape: \", trial_image.shape)\n",
    "trial_sobel = sobelFeatures(trial_image)\n",
    "trial_hog = hogFeatures(trial_image)\n",
    "trial_lbp = lbpFeatures(trial_image)\n",
    "\n",
    "print(\"Sobel feature shape: \", trial_sobel.shape)\n",
    "print(\"HOG feature shape: \", trial_hog.shape)\n",
    "print(\"LBP feature shape: \", trial_lbp.shape)"
   ]
  },
  {
   "cell_type": "markdown",
   "metadata": {},
   "source": [
    "We will now convert all the train and test images to features."
   ]
  },
  {
   "cell_type": "code",
   "execution_count": null,
   "metadata": {},
   "outputs": [
    {
     "name": "stdout",
     "output_type": "stream",
     "text": [
      "Done saving features.\n",
      "Training features shape:   (3116, 4744)\n",
      "Testing features shape:   (780, 4744)\n"
     ]
    }
   ],
   "source": [
    "trainFeatures = []\n",
    "testFeatures = []\n",
    "\n",
    "for image in trainImages:\n",
    "    trial_sobel = sobelFeatures(image)\n",
    "    trial_hog = hogFeatures(image)\n",
    "    trial_lbp = lbpFeatures(image)   \n",
    "    trainFeatures.append(np.hstack([trial_sobel, trial_hog, trial_hog]))\n",
    "\n",
    "for image in testImages:\n",
    "    trial_sobel = sobelFeatures(image)\n",
    "    trial_hog = hogFeatures(image)\n",
    "    trial_lbp = lbpFeatures(image)   \n",
    "    testFeatures.append(np.hstack([trial_sobel, trial_hog, trial_hog]))\n",
    "\n",
    "trainFeatures = np.array(trainFeatures)\n",
    "testFeatures = np.array(testFeatures)\n",
    "\n",
    "np.save(\"trainFeatures.npy\", trainFeatures)\n",
    "np.save(\"testFeatures.npy\", testFeatures)\n",
    "\n",
    "print(\"Done saving features.\")\n",
    "print(\"Training features shape:  \",trainFeatures.shape)\n",
    "print(\"Testing features shape:  \",testFeatures.shape)"
   ]
  },
  {
   "cell_type": "markdown",
   "metadata": {},
   "source": [
    "## Step 3: Reduce dimentionality\n",
    "We got feature vectors of dimension ~4700 which is too big, we will try to reduce the feature set for optimality."
   ]
  },
  {
   "cell_type": "markdown",
   "metadata": {},
   "source": [
    "We will do this using PCA.\n",
    "- Determine ideal number of required PCA components using:\n",
    "  - Use Explained Variance Ratio: Find the number of components that retain 90-95% of variance.\n",
    "  - Plot a Scree Plot: Look for the \"elbow\" point where adding more components gives diminishing returns.\n",
    "- Apply PCA to retain most variance and reduce dimension at the same time."
   ]
  },
  {
   "cell_type": "code",
   "execution_count": null,
   "metadata": {},
   "outputs": [
    {
     "data": {
      "image/png": "[encoded data removed]",
      "text/plain": [
       "<Figure size 640x480 with 1 Axes>"
      ]
     },
     "metadata": {},
     "output_type": "display_data"
    },
    {
     "name": "stdout",
     "output_type": "stream",
     "text": [
      "Estimated optimal PCA components: 512\n"
     ]
    }
   ],
   "source": [
    "from sklearn.decomposition import PCA\n",
    "\n",
    "def estimatePCAComponents(trainFeatures, sampleSize=1000, varianceThreshold=0.95):\n",
    "    sampleSize = min(sampleSize, trainFeatures.shape[0])\n",
    "    X_sample = trainFeatures[np.random.choice(trainFeatures.shape[0], sampleSize, replace=False), :] \n",
    "\n",
    "    pca = PCA().fit(X_sample) \n",
    "    explainedVariance = np.cumsum(pca.explained_variance_ratio_) \n",
    "    numComponents = np.argmax(explainedVariance >= varianceThreshold) + 1  \n",
    "\n",
    "    plt.plot(np.arange(1, len(explainedVariance) + 1), explainedVariance, marker='o', linestyle='-')\n",
    "    plt.axhline(y=varianceThreshold, color='r', linestyle='--', label=f'{int(varianceThreshold * 100)}% Variance')\n",
    "    plt.xlabel(\"Number of PCA Components\")\n",
    "    plt.ylabel(\"Cumulative Explained Variance\")\n",
    "    plt.title(\"Scree Plot for PCA\")\n",
    "    plt.legend()\n",
    "    plt.grid()\n",
    "    plt.show()\n",
    "\n",
    "    return numComponents\n",
    "\n",
    "optimalComponents = estimatePCAComponents(trainFeatures, sampleSize=trainFeatures.shape[0])\n",
    "print(f\"Estimated optimal PCA components: {optimalComponents}\")\n"
   ]
  },
  {
   "cell_type": "markdown",
   "metadata": {},
   "source": [
    "Apply the PCA transform to training samples. Note that we are applying same PCA transformation to testing set that we learned from training set."
   ]
  },
  {
   "cell_type": "code",
   "execution_count": null,
   "metadata": {},
   "outputs": [
    {
     "name": "stdout",
     "output_type": "stream",
     "text": [
      "Done saving features.\n",
      "Reduced Training features shape:   (3116, 512)\n",
      "Reduced Testing features shape:   (780, 512)\n"
     ]
    }
   ],
   "source": [
    "final_PCA = PCA(n_components=optimalComponents)\n",
    "trainFeaturesReduced = final_PCA.fit_transform(trainFeatures)\n",
    "testFeaturesReduced = final_PCA.transform(testFeatures)\n",
    "\n",
    "trainFeaturesReduced = np.array(trainFeaturesReduced)\n",
    "testFeaturesReduced = np.array(testFeaturesReduced)\n",
    "\n",
    "np.save(\"trainFeaturesReduced.npy\", trainFeaturesReduced)\n",
    "np.save(\"testFeaturesReduced.npy\", testFeaturesReduced)\n",
    "\n",
    "print(\"Done saving features.\")\n",
    "print(\"Reduced Training features shape:  \",trainFeaturesReduced.shape)\n",
    "print(\"Reduced Testing features shape:  \",testFeaturesReduced.shape)"
   ]
  },
  {
   "cell_type": "code",
   "execution_count": null,
   "metadata": {},
   "outputs": [
    {
     "name": "stdout",
     "output_type": "stream",
     "text": [
      "Training labels shape:   (3116,)\n",
      "Testing labels shape:   (780,)\n"
     ]
    }
   ],
   "source": [
    "print(\"Training labels shape:  \",trainLabels.shape)\n",
    "print(\"Testing labels shape:  \",testLabels.shape)"
   ]
  },
  {
   "cell_type": "markdown",
   "metadata": {},
   "source": [
    "## Step 4: Train models\n",
    "Now we have the required data, so we can train the models."
   ]
  },
  {
   "cell_type": "markdown",
   "metadata": {},
   "source": [
    "We will use the following models:\n",
    "- SVM\n",
    "- Neural network"
   ]
  },
  {
   "cell_type": "code",
   "execution_count": null,
   "metadata": {},
   "outputs": [
    {
     "name": "stdout",
     "output_type": "stream",
     "text": [
      "Training Accuracy: 0.9220\n",
      "Test Accuracy: 0.8372\n",
      "\n",
      "Classification Report (Test Set):\n",
      "               precision    recall  f1-score   support\n",
      "\n",
      "           0       0.82      0.85      0.84       386\n",
      "           1       0.85      0.82      0.84       394\n",
      "\n",
      "    accuracy                           0.84       780\n",
      "   macro avg       0.84      0.84      0.84       780\n",
      "weighted avg       0.84      0.84      0.84       780\n",
      "\n",
      "\n",
      "Confusion Matrix:\n",
      " [[329  57]\n",
      " [ 70 324]]\n"
     ]
    }
   ],
   "source": [
    "from sklearn.svm import SVC\n",
    "from sklearn.metrics import accuracy_score, classification_report, confusion_matrix\n",
    "\n",
    "def trainAndEvaluateSVM(trainFeatures, trainLabels, testFeatures, testLabels):\n",
    "    model = SVC(kernel=\"rbf\", C=1.0, gamma=\"scale\")\n",
    "    model.fit(trainFeatures, trainLabels) \n",
    "\n",
    "    trainPreds = model.predict(trainFeatures) \n",
    "    testPreds = model.predict(testFeatures) \n",
    "\n",
    "    trainAccuracy = accuracy_score(trainLabels, trainPreds)\n",
    "    testAccuracy = accuracy_score(testLabels, testPreds)\n",
    "\n",
    "    print(f\"Training Accuracy: {trainAccuracy:.4f}\")\n",
    "    print(f\"Test Accuracy: {testAccuracy:.4f}\")\n",
    "    print(\"\\nClassification Report (Test Set):\\n\", classification_report(testLabels, testPreds))\n",
    "    print(\"\\nConfusion Matrix:\\n\", confusion_matrix(testLabels, testPreds))\n",
    "\n",
    "    return model, [trainAccuracy, testAccuracy, classification_report(testLabels, testPreds), confusion_matrix(testLabels, testPreds)]\n",
    "\n",
    "svmModel, svmAccuracy = trainAndEvaluateSVM(trainFeaturesReduced, trainLabels, testFeaturesReduced, testLabels)\n"
   ]
  },
  {
   "cell_type": "code",
   "execution_count": null,
   "metadata": {},
   "outputs": [
    {
     "name": "stdout",
     "output_type": "stream",
     "text": [
      "Training Accuracy: 1.0000\n",
      "Test Accuracy: 0.8346\n",
      "\n",
      "Classification Report (Test Set):\n",
      "               precision    recall  f1-score   support\n",
      "\n",
      "           0       0.82      0.85      0.84       386\n",
      "           1       0.85      0.82      0.83       394\n",
      "\n",
      "    accuracy                           0.83       780\n",
      "   macro avg       0.83      0.83      0.83       780\n",
      "weighted avg       0.83      0.83      0.83       780\n",
      "\n",
      "\n",
      "Confusion Matrix:\n",
      " [[327  59]\n",
      " [ 70 324]]\n"
     ]
    }
   ],
   "source": [
    "from sklearn.neural_network import MLPClassifier\n",
    "\n",
    "def trainAndEvaluateMLP(trainFeatures, trainLabels, testFeatures, testLabels):\n",
    "    model = MLPClassifier(hidden_layer_sizes=(64, 32), activation=\"relu\", solver=\"adam\", max_iter=300, random_state=42, alpha=0.1)\n",
    "    model.fit(trainFeatures, trainLabels)  \n",
    "    trainPreds = model.predict(trainFeatures) \n",
    "    testPreds = model.predict(testFeatures)\n",
    "\n",
    "    trainAccuracy = accuracy_score(trainLabels, trainPreds)\n",
    "    testAccuracy = accuracy_score(testLabels, testPreds)\n",
    "\n",
    "    print(f\"Training Accuracy: {trainAccuracy:.4f}\")\n",
    "    print(f\"Test Accuracy: {testAccuracy:.4f}\")\n",
    "    print(\"\\nClassification Report (Test Set):\\n\", classification_report(testLabels, testPreds))\n",
    "    print(\"\\nConfusion Matrix:\\n\", confusion_matrix(testLabels, testPreds))\n",
    "\n",
    "    return model, [trainAccuracy, testAccuracy, classification_report(testLabels, testPreds), confusion_matrix(testLabels, testPreds)]\n",
    "\n",
    "mlpModel, mlpAccuracy = trainAndEvaluateMLP(trainFeaturesReduced, trainLabels, testFeaturesReduced, testLabels)\n"
   ]
  },
  {
   "cell_type": "code",
   "execution_count": null,
   "metadata": {},
   "outputs": [
    {
     "name": "stdout",
     "output_type": "stream",
     "text": [
      "Training Accuracy: 0.8678\n",
      "Test Accuracy: 0.7513\n",
      "\n",
      "Classification Report (Test Set):\n",
      "               precision    recall  f1-score   support\n",
      "\n",
      "           0       0.74      0.76      0.75       386\n",
      "           1       0.76      0.74      0.75       394\n",
      "\n",
      "    accuracy                           0.75       780\n",
      "   macro avg       0.75      0.75      0.75       780\n",
      "weighted avg       0.75      0.75      0.75       780\n",
      "\n",
      "\n",
      "Confusion Matrix:\n",
      " [[294  92]\n",
      " [102 292]]\n"
     ]
    }
   ],
   "source": [
    "from sklearn.linear_model import LogisticRegression\n",
    "\n",
    "def trainAndEvaluateLogisticRegression(trainFeatures, trainLabels, testFeatures, testLabels):\n",
    "    model = LogisticRegression(solver=\"lbfgs\", max_iter=2000, random_state=42)\n",
    "    model.fit(trainFeatures, trainLabels)  \n",
    "\n",
    "    trainPreds = model.predict(trainFeatures)  \n",
    "    testPreds = model.predict(testFeatures)  \n",
    "    trainAccuracy = accuracy_score(trainLabels, trainPreds)\n",
    "    testAccuracy = accuracy_score(testLabels, testPreds)\n",
    "\n",
    "    print(f\"Training Accuracy: {trainAccuracy:.4f}\")\n",
    "    print(f\"Test Accuracy: {testAccuracy:.4f}\")\n",
    "    print(\"\\nClassification Report (Test Set):\\n\", classification_report(testLabels, testPreds))\n",
    "    print(\"\\nConfusion Matrix:\\n\", confusion_matrix(testLabels, testPreds))\n",
    "\n",
    "    return model, [trainAccuracy, testAccuracy, classification_report(testLabels, testPreds), confusion_matrix(testLabels, testPreds)]\n",
    "\n",
    "logisticModel, logisticAccuracy = trainAndEvaluateLogisticRegression(trainFeaturesReduced, trainLabels, testFeaturesReduced, testLabels)\n"
   ]
  },
  {
   "cell_type": "code",
   "execution_count": null,
   "metadata": {},
   "outputs": [
    {
     "name": "stdout",
     "output_type": "stream",
     "text": [
      "Training Accuracy: 1.0000\n",
      "Test Accuracy: 0.7936\n",
      "\n",
      "Classification Report (Test Set):\n",
      "               precision    recall  f1-score   support\n",
      "\n",
      "           0       0.79      0.79      0.79       386\n",
      "           1       0.80      0.79      0.80       394\n",
      "\n",
      "    accuracy                           0.79       780\n",
      "   macro avg       0.79      0.79      0.79       780\n",
      "weighted avg       0.79      0.79      0.79       780\n",
      "\n",
      "\n",
      "Confusion Matrix:\n",
      " [[306  80]\n",
      " [ 81 313]]\n"
     ]
    }
   ],
   "source": [
    "from sklearn.ensemble import RandomForestClassifier\n",
    "\n",
    "def trainAndEvaluateRandomForest(trainFeatures, trainLabels, testFeatures, testLabels):\n",
    "    model = RandomForestClassifier(n_estimators=100, max_depth=None, random_state=42)\n",
    "    model.fit(trainFeatures, trainLabels)  \n",
    "\n",
    "    trainPreds = model.predict(trainFeatures)  \n",
    "    testPreds = model.predict(testFeatures)  \n",
    "\n",
    "    trainAccuracy = accuracy_score(trainLabels, trainPreds)\n",
    "    testAccuracy = accuracy_score(testLabels, testPreds)\n",
    "\n",
    "    print(f\"Training Accuracy: {trainAccuracy:.4f}\")\n",
    "    print(f\"Test Accuracy: {testAccuracy:.4f}\")\n",
    "    print(\"\\nClassification Report (Test Set):\\n\", classification_report(testLabels, testPreds))\n",
    "    print(\"\\nConfusion Matrix:\\n\", confusion_matrix(testLabels, testPreds))\n",
    "\n",
    "    return model, [trainAccuracy, testAccuracy, classification_report(testLabels, testPreds), confusion_matrix(testLabels, testPreds)]\n",
    "\n",
    "rfModel, rfAccuracy = trainAndEvaluateRandomForest(trainFeaturesReduced, trainLabels, testFeaturesReduced, testLabels)\n"
   ]
  },
  {
   "cell_type": "code",
   "execution_count": null,
   "metadata": {},
   "outputs": [
    {
     "name": "stdout",
     "output_type": "stream",
     "text": [
      "Model  Train Acc  Test Acc  False Positives  False Negatives  F1-Score\n",
      "  SVM   0.922015  0.837179               57               70      0.84\n",
      "  MLP   1.000000  0.834615               59               70      0.83\n",
      "   LR   0.867779  0.751282               92              102      0.75\n",
      "   RF   1.000000  0.793590               80               81      0.79\n"
     ]
    }
   ],
   "source": [
    "import pandas as pd\n",
    "\n",
    "def displayModelComparison(modelResults):\n",
    "    reportData = []\n",
    "\n",
    "    for modelName, results in modelResults.items():\n",
    "        trainAcc, testAcc, classReport, confMatrix = results  # Unpacking stored results\n",
    "        \n",
    "        # Extracting necessary metrics from the classification report\n",
    "        f1Score = float(classReport.split(\"weighted avg\")[1].split()[2])  # Extract weighted F1-score\n",
    "        \n",
    "        # Extracting FP and FN from Confusion Matrix\n",
    "        FP = confMatrix[0][1]  # False Positives (wrongly classified as \"mask\")\n",
    "        FN = confMatrix[1][0]  # False Negatives (wrongly classified as \"no mask\")\n",
    "\n",
    "        # Storing results in list format for DataFrame\n",
    "        reportData.append([modelName, trainAcc, testAcc, FP, FN, f1Score])\n",
    "\n",
    "    # Convert to Pandas DataFrame for clean table format\n",
    "    reportDF = pd.DataFrame(reportData, columns=[\"Model\", \"Train Acc\", \"Test Acc\", \"False Positives\", \"False Negatives\", \"F1-Score\"])\n",
    "    \n",
    "    # Display results in a structured table\n",
    "    print(reportDF.to_string(index=False))\n",
    "\n",
    "# Example usage:\n",
    "modelResults = {\n",
    "    \"SVM\": svmAccuracy,  # Format: [trainAcc, testAcc, classificationReport, confusionMatrix]\n",
    "    \"MLP\": mlpAccuracy,\n",
    "    \"LR\": logisticAccuracy,\n",
    "    \"RF\": rfAccuracy\n",
    "}\n",
    "\n",
    "displayModelComparison(modelResults)\n"
   ]
  },
  {
   "cell_type": "markdown",
   "metadata": {},
   "source": [
    "Here's a **structured table** summarizing the **key takeaways** from the model comparison:  \n",
    "\n",
    "| Model  | Strengths | Weaknesses | Final Verdict |\n",
    "|--------|----------|------------|---------------|\n",
    "| **SVM** | ✅ **Highest test accuracy (85.13%)** <br> ✅ **Balanced FP (55) & FN (61)** <br> ✅ **Best F1-score (0.85)** | ⚠️ Slight overfitting (Train: 97.11%) | 🏆 **Best overall model** – great accuracy, low error rates |\n",
    "| **MLP (Neural Net)** | ✅ **Decent F1-score (0.83)** | ⚠️ **Severe overfitting (Train: 100%)** <br> ⚠️ Higher FN (74) – **misses more masked faces** | ⚠️ **Needs tuning** (dropout, regularization) |\n",
    "| **Logistic Regression** | ✅ **Simple & interpretable** | ❌ **Lowest test accuracy (76.28%)** <br> ❌ **Most FN (102)** – **worst at detecting masks** | ❌ **Not ideal for deployment**, but good for baseline |\n",
    "| **Random Forest** | ✅ **Handles complex relationships** | ❌ **Severe overfitting (Train: 100%)** <br> ❌ **Highest FP (113)** – **falsely detects too many masks** | ❌ **Unstable & unreliable** for this task |\n",
    "\n",
    "---\n",
    "\\* Structured using GPT"
   ]
  },
  {
   "cell_type": "markdown",
   "metadata": {},
   "source": [
    "## Final Results\n",
    "\n",
    "**Initial run:**\n",
    "```\n",
    "Model  Train Acc  Test Acc  False Positives  False Negatives  F1-Score\n",
    "  SVM   0.971117  0.851282               55               61      0.85\n",
    "  MLP   1.000000  0.832051               57               74      0.83\n",
    "   LR   0.899872  0.762821               83              102      0.76\n",
    "   RF   1.000000  0.779487              113               59      0.78\n",
    "```\n",
    "\n",
    "**Applied normalization to features separately:**\n",
    "```\n",
    "Model  Train Acc  Test Acc  False Positives  False Negatives  F1-Score\n",
    "  SVM   0.922015  0.837179               57               70      0.84\n",
    "  MLP   1.000000  0.834615               59               70      0.83\n",
    "   LR   0.867779  0.751282               92              102      0.75\n",
    "   RF   1.000000  0.793590               80               81      0.79\n",
    "```"
   ]
  }
 ],
 "metadata": {
  "kernelspec": {
   "display_name": "Python 3",
   "language": "python",
   "name": "python3"
  },
  "language_info": {
   "codemirror_mode": {
    "name": "ipython",
    "version": 3
   },
   "file_extension": ".py",
   "mimetype": "text/x-python",
   "name": "python",
   "nbconvert_exporter": "python",
   "pygments_lexer": "ipython3",
   "version": "3.11.4"
  }
 },
 "nbformat": 4,
 "nbformat_minor": 2
}
